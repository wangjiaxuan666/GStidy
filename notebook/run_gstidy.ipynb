{
 "cells": [
  {
   "cell_type": "markdown",
   "metadata": {
    "pycharm": {
     "name": "#%% md\n"
    }
   },
   "source": [
    "# 对GWAS结果的sumstats文件质控"
   ]
  },
  {
   "cell_type": "markdown",
   "metadata": {
    "pycharm": {
     "name": "#%% md\n"
    }
   },
   "source": [
    "## 一般我们下载的sumstats文件是可能不对的\n",
    "\n",
    "这个时候就需要我们进行一些手动的处理，结合ldsc软件的一些名称修改建议，再加上关于一些统计量的转变关系，最终形成了这个python包\n",
    "\n",
    "- 支持自动识别列名，并进行补充\n",
    "- 输入文件必须拥有几个必须的列名，`P`,`rsid`,以及`REF A1` 和`ALT A2`,否则怎么都转变不出来合格的格式\n",
    "\n",
    "## 示例文件\n",
    "\n",
    "简单做个用法说明和测试，首先已经有`[data/fake_table.GWAS.sumstats.tsv](../data/fake_table.GWAS.sumstats.tsv)`和数据库文件`[data/snp2chrpos.json](../data/snp2chrpos.json)`,`[data/snp2maf.json](../data/snp2maf.json)`。 当然这个三个文件，是我伪造的，\n",
    "也是为了测试，所以搞得很小的测试文件。\n",
    "\n",
    "### 先看看示例文件的结构\n",
    "\n",
    "通过一下展示，可以发现json就是{key:values}这样的格式，而输入的矩阵，也是正常的GWAS sumstats 文件，只是少了很多应有的统计量和信息罢了。"
   ]
  },
  {
   "cell_type": "code",
   "execution_count": 1,
   "metadata": {
    "pycharm": {
     "name": "#%%\n"
    }
   },
   "outputs": [
    {
     "name": "stdout",
     "output_type": "stream",
     "text": [
      "{\r\n",
      "\"rs62635278\":\"1:456\",\r\n",
      "\"rs2691333\":\"2:3455\",\r\n",
      "\"rs62635282\":\"3:4556657\",\r\n",
      "\"rs62635284\":\"5:4546\",\r\n",
      "\"rs77233895\":\"1:3435\",\r\n",
      "\"rs6682375\":\"2:1232\",\r\n",
      "\"rs6682385\":\"22:45546\",\r\n",
      "\"rs11580262\":\"8:232244\",\r\n",
      "\"rs3982632\":\"8:354546\"\r\n"
     ]
    }
   ],
   "source": [
    "!head ../data/snp2chrpos.json"
   ]
  },
  {
   "cell_type": "code",
   "execution_count": 2,
   "metadata": {
    "pycharm": {
     "name": "#%%\n"
    }
   },
   "outputs": [
    {
     "name": "stdout",
     "output_type": "stream",
     "text": [
      "rsid\tA1\tA2\tN\tP\tOR\r\n",
      "rs62635278\tC\tA\t4\t0.7911\t0.9818\r\n",
      "rs2691333\tG\tT\t5\t0.8735\t0.9924\r\n",
      "rs62635282\tG\tC\t4\t0.802\t0.9823\r\n",
      "rs62635284\tA\tG\t4\t0.7956\t0.9806\r\n",
      "rs77233895\tA\tC\t5\t0.8814\t0.9937\r\n",
      "rs6682375\tA\tG\t4\t0.8057\t0.9817\r\n",
      "rs6682385\tG\tA\t4\t0.7992\t0.9809\r\n",
      "rs11580262\tA\tG\t4\t0.7887\t0.9784\r\n",
      "rs3982632\tT\tG\t4\t0.7992\t0.9819\r\n"
     ]
    }
   ],
   "source": [
    "!head ../data/fake_table.GWAS.sumstats.tsv"
   ]
  },
  {
   "cell_type": "markdown",
   "metadata": {
    "pycharm": {
     "name": "#%% md\n"
    }
   },
   "source": [
    "### 用GStidy进行处理\n",
    "\n",
    "首先进入python的界面"
   ]
  },
  {
   "cell_type": "code",
   "execution_count": 3,
   "metadata": {
    "pycharm": {
     "name": "#%%\n"
    }
   },
   "outputs": [
    {
     "name": "stdout",
     "output_type": "stream",
     "text": [
      "The input data lack of << SE >>, ===>:standard errors\n",
      "The input data lack of << Z >>, ===>:Z-score (0 --> no effect; above 0 --> A1 is trait/risk increasing)\n",
      "The input data lack of << BETA >>, ===>:[linear/logistic] regression coefficient (0 --> no effect; above 0 --> A1 is trait/risk increasing)\n",
      "The input data lack of << INFO >>, ===>:INFO score (imputation quality; higher --> better imputation)\n",
      "The input data lack of << FRQ >>, ===>:Allele frequency\n",
      "The input data lack of << PHENOTYPE >>, ===>:The disease PHENOTYPE, If you want add ,need -N parameter\n"
     ]
    },
    {
     "data": {
      "text/html": [
       "<div>\n",
       "<style scoped>\n",
       "    .dataframe tbody tr th:only-of-type {\n",
       "        vertical-align: middle;\n",
       "    }\n",
       "\n",
       "    .dataframe tbody tr th {\n",
       "        vertical-align: top;\n",
       "    }\n",
       "\n",
       "    .dataframe thead th {\n",
       "        text-align: right;\n",
       "    }\n",
       "</style>\n",
       "<table border=\"1\" class=\"dataframe\">\n",
       "  <thead>\n",
       "    <tr style=\"text-align: right;\">\n",
       "      <th></th>\n",
       "      <th>rsid</th>\n",
       "      <th>A1</th>\n",
       "      <th>A2</th>\n",
       "      <th>N</th>\n",
       "      <th>P</th>\n",
       "      <th>OR</th>\n",
       "      <th>SE</th>\n",
       "      <th>BETA</th>\n",
       "      <th>Z</th>\n",
       "      <th>CHR</th>\n",
       "      <th>BP</th>\n",
       "      <th>MAF</th>\n",
       "    </tr>\n",
       "  </thead>\n",
       "  <tbody>\n",
       "    <tr>\n",
       "      <th>0</th>\n",
       "      <td>rs62635278</td>\n",
       "      <td>C</td>\n",
       "      <td>A</td>\n",
       "      <td>4</td>\n",
       "      <td>0.7911</td>\n",
       "      <td>0.9818</td>\n",
       "      <td>0.069343</td>\n",
       "      <td>-0.018368</td>\n",
       "      <td>-0.264882</td>\n",
       "      <td>chr1</td>\n",
       "      <td>456</td>\n",
       "      <td>0.3</td>\n",
       "    </tr>\n",
       "    <tr>\n",
       "      <th>1</th>\n",
       "      <td>rs2691333</td>\n",
       "      <td>G</td>\n",
       "      <td>T</td>\n",
       "      <td>5</td>\n",
       "      <td>0.8735</td>\n",
       "      <td>0.9924</td>\n",
       "      <td>0.047917</td>\n",
       "      <td>-0.007629</td>\n",
       "      <td>-0.159214</td>\n",
       "      <td>chr2</td>\n",
       "      <td>3455</td>\n",
       "      <td>0.4</td>\n",
       "    </tr>\n",
       "    <tr>\n",
       "      <th>2</th>\n",
       "      <td>rs62635282</td>\n",
       "      <td>G</td>\n",
       "      <td>C</td>\n",
       "      <td>4</td>\n",
       "      <td>0.8020</td>\n",
       "      <td>0.9823</td>\n",
       "      <td>0.071218</td>\n",
       "      <td>-0.017859</td>\n",
       "      <td>-0.250760</td>\n",
       "      <td>chr3</td>\n",
       "      <td>4556657</td>\n",
       "      <td>0.5</td>\n",
       "    </tr>\n",
       "    <tr>\n",
       "      <th>3</th>\n",
       "      <td>rs62635284</td>\n",
       "      <td>A</td>\n",
       "      <td>G</td>\n",
       "      <td>4</td>\n",
       "      <td>0.7956</td>\n",
       "      <td>0.9806</td>\n",
       "      <td>0.075626</td>\n",
       "      <td>-0.019591</td>\n",
       "      <td>-0.259046</td>\n",
       "      <td>chr5</td>\n",
       "      <td>4546</td>\n",
       "      <td>0.4</td>\n",
       "    </tr>\n",
       "    <tr>\n",
       "      <th>4</th>\n",
       "      <td>rs77233895</td>\n",
       "      <td>A</td>\n",
       "      <td>C</td>\n",
       "      <td>5</td>\n",
       "      <td>0.8814</td>\n",
       "      <td>0.9937</td>\n",
       "      <td>0.042360</td>\n",
       "      <td>-0.006320</td>\n",
       "      <td>-0.149195</td>\n",
       "      <td>chr1</td>\n",
       "      <td>3435</td>\n",
       "      <td>0.9</td>\n",
       "    </tr>\n",
       "    <tr>\n",
       "      <th>5</th>\n",
       "      <td>rs6682375</td>\n",
       "      <td>A</td>\n",
       "      <td>G</td>\n",
       "      <td>4</td>\n",
       "      <td>0.8057</td>\n",
       "      <td>0.9817</td>\n",
       "      <td>0.075086</td>\n",
       "      <td>-0.018470</td>\n",
       "      <td>-0.245977</td>\n",
       "      <td>chr2</td>\n",
       "      <td>1232</td>\n",
       "      <td>0.1</td>\n",
       "    </tr>\n",
       "    <tr>\n",
       "      <th>6</th>\n",
       "      <td>rs6682385</td>\n",
       "      <td>G</td>\n",
       "      <td>A</td>\n",
       "      <td>4</td>\n",
       "      <td>0.7992</td>\n",
       "      <td>0.9809</td>\n",
       "      <td>0.075810</td>\n",
       "      <td>-0.019285</td>\n",
       "      <td>-0.254383</td>\n",
       "      <td>chr22</td>\n",
       "      <td>45546</td>\n",
       "      <td>0.2</td>\n",
       "    </tr>\n",
       "    <tr>\n",
       "      <th>7</th>\n",
       "      <td>rs11580262</td>\n",
       "      <td>A</td>\n",
       "      <td>G</td>\n",
       "      <td>4</td>\n",
       "      <td>0.7887</td>\n",
       "      <td>0.9784</td>\n",
       "      <td>0.081480</td>\n",
       "      <td>-0.021837</td>\n",
       "      <td>-0.267999</td>\n",
       "      <td>chr8</td>\n",
       "      <td>232244</td>\n",
       "      <td>0.4</td>\n",
       "    </tr>\n",
       "    <tr>\n",
       "      <th>8</th>\n",
       "      <td>rs3982632</td>\n",
       "      <td>T</td>\n",
       "      <td>G</td>\n",
       "      <td>4</td>\n",
       "      <td>0.7992</td>\n",
       "      <td>0.9819</td>\n",
       "      <td>0.071804</td>\n",
       "      <td>-0.018266</td>\n",
       "      <td>-0.254383</td>\n",
       "      <td>chr8</td>\n",
       "      <td>354546</td>\n",
       "      <td>0.7</td>\n",
       "    </tr>\n",
       "  </tbody>\n",
       "</table>\n",
       "</div>"
      ],
      "text/plain": [
       "         rsid A1 A2  N       P      OR        SE      BETA         Z    CHR  \\\n",
       "0  rs62635278  C  A  4  0.7911  0.9818  0.069343 -0.018368 -0.264882   chr1   \n",
       "1   rs2691333  G  T  5  0.8735  0.9924  0.047917 -0.007629 -0.159214   chr2   \n",
       "2  rs62635282  G  C  4  0.8020  0.9823  0.071218 -0.017859 -0.250760   chr3   \n",
       "3  rs62635284  A  G  4  0.7956  0.9806  0.075626 -0.019591 -0.259046   chr5   \n",
       "4  rs77233895  A  C  5  0.8814  0.9937  0.042360 -0.006320 -0.149195   chr1   \n",
       "5   rs6682375  A  G  4  0.8057  0.9817  0.075086 -0.018470 -0.245977   chr2   \n",
       "6   rs6682385  G  A  4  0.7992  0.9809  0.075810 -0.019285 -0.254383  chr22   \n",
       "7  rs11580262  A  G  4  0.7887  0.9784  0.081480 -0.021837 -0.267999   chr8   \n",
       "8   rs3982632  T  G  4  0.7992  0.9819  0.071804 -0.018266 -0.254383   chr8   \n",
       "\n",
       "        BP  MAF  \n",
       "0      456  0.3  \n",
       "1     3455  0.4  \n",
       "2  4556657  0.5  \n",
       "3     4546  0.4  \n",
       "4     3435  0.9  \n",
       "5     1232  0.1  \n",
       "6    45546  0.2  \n",
       "7   232244  0.4  \n",
       "8   354546  0.7  "
      ]
     },
     "execution_count": 3,
     "metadata": {},
     "output_type": "execute_result"
    }
   ],
   "source": [
    "from gstidy import gstidy\n",
    "data = gstidy(\"../data/fake_table.GWAS.sumstats.tsv\")\n",
    "data"
   ]
  },
  {
   "cell_type": "markdown",
   "metadata": {
    "pycharm": {
     "name": "#%% md\n"
    }
   },
   "source": []
  }
 ],
 "metadata": {
  "kernelspec": {
   "display_name": "Python 3 (ipykernel)",
   "language": "python",
   "name": "python3"
  },
  "language_info": {
   "codemirror_mode": {
    "name": "ipython",
    "version": 3
   },
   "file_extension": ".py",
   "mimetype": "text/x-python",
   "name": "python",
   "nbconvert_exporter": "python",
   "pygments_lexer": "ipython3",
   "version": "3.9.1"
  }
 },
 "nbformat": 4,
 "nbformat_minor": 1
}